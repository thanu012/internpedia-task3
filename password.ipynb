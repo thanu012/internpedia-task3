{
  "nbformat": 4,
  "nbformat_minor": 0,
  "metadata": {
    "colab": {
      "provenance": [],
      "include_colab_link": true
    },
    "kernelspec": {
      "name": "python3",
      "display_name": "Python 3"
    },
    "language_info": {
      "name": "python"
    }
  },
  "cells": [
    {
      "cell_type": "markdown",
      "metadata": {
        "id": "view-in-github",
        "colab_type": "text"
      },
      "source": [
        "<a href=\"https://colab.research.google.com/github/thanu012/internpedia-task3/blob/main/password.ipynb\" target=\"_parent\"><img src=\"https://colab.research.google.com/assets/colab-badge.svg\" alt=\"Open In Colab\"/></a>"
      ]
    },
    {
      "cell_type": "code",
      "execution_count": null,
      "metadata": {
        "id": "CvWoZ443bkOq"
      },
      "outputs": [],
      "source": [
        "import secrets\n",
        "import string\n",
        "import pyperclip"
      ]
    },
    {
      "cell_type": "code",
      "source": [
        "def get_password_characters(include_uppercase, include_lowercase, include_digits, include_symbols):\n",
        "    characters = ''\n",
        "    if include_uppercase:\n",
        "        characters += string.ascii_uppercase\n",
        "    if include_lowercase:\n",
        "        characters += string.ascii_lowercase\n",
        "    if include_digits:\n",
        "        characters += string.digits\n",
        "    if include_symbols:\n",
        "        characters += string.punctuation\n",
        "    return characters"
      ],
      "metadata": {
        "id": "f3Mj0pHWbpsg"
      },
      "execution_count": null,
      "outputs": []
    },
    {
      "cell_type": "code",
      "source": [
        "def generate_password(length, characters):\n",
        "    return ''.join(secrets.choice(characters) for _ in range(length))"
      ],
      "metadata": {
        "id": "tcqPsilLcS_0"
      },
      "execution_count": null,
      "outputs": []
    },
    {
      "cell_type": "code",
      "source": [
        "def get_user_preferences():\n",
        "    try:\n",
        "        length = int(input(\"Enter the password length: \"))\n",
        "        if length <= 0:\n",
        "            raise ValueError(\"Length must be a positive integer.\")\n",
        "\n",
        "        include_uppercase = input(\"Include uppercase letters? (y/n): \").strip().lower() == 'y'\n",
        "        include_lowercase = input(\"Include lowercase letters? (y/n): \").strip().lower() == 'y'\n",
        "        include_digits = input(\"Include digits? (y/n): \").strip().lower() == 'y'\n",
        "        include_symbols = input(\"Include symbols? (y/n): \").strip().lower() == 'y'\n",
        "\n",
        "        if not (include_uppercase or include_lowercase or include_digits or include_symbols):\n",
        "            raise ValueError(\"At least one character type must be selected.\")\n",
        "\n",
        "        num_passwords = int(input(\"How many passwords do you want to generate? \"))\n",
        "        if num_passwords <= 0:\n",
        "            raise ValueError(\"Number of passwords must be a positive integer.\")\n",
        "\n",
        "        return length, include_uppercase, include_lowercase, include_digits, include_symbols, num_passwords\n",
        "\n",
        "    except ValueError as e:\n",
        "        print(f\"Invalid input: {e}\")\n",
        "        return None"
      ],
      "metadata": {
        "id": "vLfUFozAccHa"
      },
      "execution_count": null,
      "outputs": []
    },
    {
      "cell_type": "code",
      "source": [
        "def main():\n",
        "    user_prefs = get_user_preferences()\n",
        "    if not user_prefs:\n",
        "        return\n",
        "\n",
        "    length, include_uppercase, include_lowercase, include_digits, include_symbols, num_passwords = user_prefs\n",
        "    characters = get_password_characters(include_uppercase, include_lowercase, include_digits, include_symbols)\n",
        "\n",
        "    passwords = [generate_password(length, characters) for _ in range(num_passwords)]\n",
        "\n",
        "    print(\"\\nGenerated Passwords:\")\n",
        "    for i, pwd in enumerate(passwords, 1):\n",
        "        print(f\"{i}. {pwd}\")\n",
        "\n",
        "    if input(\"\\nDo you want to copy the first password to the clipboard? (y/n): \").strip().lower() == 'y':\n",
        "        pyperclip.copy(passwords[0])\n",
        "        print(\"First password copied to clipboard.\")"
      ],
      "metadata": {
        "id": "mNrJd8JDckyU"
      },
      "execution_count": null,
      "outputs": []
    },
    {
      "cell_type": "code",
      "source": [
        "if __name__ == \"__main__\":\n",
        "    main()"
      ],
      "metadata": {
        "colab": {
          "base_uri": "https://localhost:8080/"
        },
        "id": "4z4Tiep0ct6m",
        "outputId": "1db8c9a3-cd0b-479a-c930-5fcdd01dc5b1"
      },
      "execution_count": null,
      "outputs": [
        {
          "name": "stdout",
          "output_type": "stream",
          "text": [
            "Enter the password length: 5\n",
            "Include uppercase letters? (y/n): y\n",
            "Include lowercase letters? (y/n): n\n",
            "Include digits? (y/n): y\n",
            "Include symbols? (y/n): y\n",
            "How many passwords do you want to generate? 2\n",
            "\n",
            "Generated Passwords:\n",
            "1. )~=E]\n",
            "2. >SM$H\n",
            "\n",
            "Do you want to copy the first password to the clipboard? (y/n): n\n"
          ]
        }
      ]
    }
  ]
}